{
 "cells": [
  {
   "cell_type": "code",
   "execution_count": 1,
   "metadata": {},
   "outputs": [],
   "source": [
    "import tensorflow as tf\n",
    "import numpy as np\n",
    "from tensorflow.keras.preprocessing.image import ImageDataGenerator\n",
    "from tensorflow.keras.models import Sequential\n",
    "from tensorflow.keras.layers import Conv2D, MaxPooling2D, Flatten, Dense\n",
    "import os\n",
    "import pandas as pd\n",
    "import cv2\n",
    "import matplotlib.pyplot as plt"
   ]
  },
  {
   "cell_type": "code",
   "execution_count": 2,
   "metadata": {},
   "outputs": [],
   "source": [
    "def create_dataset(directory):\n",
    "    data = []\n",
    "    \n",
    "    # Traverse the directory\n",
    "    for subdir, _, files in os.walk(directory):\n",
    "        for file in files:\n",
    "            # Check if the file is an image\n",
    "            if file.lower().endswith(('.png', '.jpg', '.jpeg', '.bmp', '.gif')):\n",
    "                # Get the label from the subfolder name\n",
    "                label = os.path.basename(subdir)\n",
    "                # Get the full path of the image\n",
    "                file_path = os.path.join(subdir, file)\n",
    "                # Append to the dataset\n",
    "                data.append((file_path, label))\n",
    "    \n",
    "    # Create a DataFrame from the dataset\n",
    "    df = pd.DataFrame(data, columns=['image_path', 'label'])\n",
    "    return df"
   ]
  },
  {
   "cell_type": "code",
   "execution_count": 3,
   "metadata": {},
   "outputs": [],
   "source": [
    "directory = 'C:\\\\Users\\\\gotze\\\\OneDrive\\\\Desktop\\\\ESD Mf\\\\images\\\\train'\n",
    "directory_val = 'C:\\\\Users\\\\gotze\\\\OneDrive\\\\Desktop\\\\ESD Mf\\\\images\\\\validation'\n",
    "dataset = create_dataset(directory)\n",
    "val_dataset = create_dataset(directory_val)"
   ]
  },
  {
   "cell_type": "code",
   "execution_count": 4,
   "metadata": {},
   "outputs": [
    {
     "data": {
      "text/html": [
       "<div>\n",
       "<style scoped>\n",
       "    .dataframe tbody tr th:only-of-type {\n",
       "        vertical-align: middle;\n",
       "    }\n",
       "\n",
       "    .dataframe tbody tr th {\n",
       "        vertical-align: top;\n",
       "    }\n",
       "\n",
       "    .dataframe thead th {\n",
       "        text-align: right;\n",
       "    }\n",
       "</style>\n",
       "<table border=\"1\" class=\"dataframe\">\n",
       "  <thead>\n",
       "    <tr style=\"text-align: right;\">\n",
       "      <th></th>\n",
       "      <th>image_path</th>\n",
       "      <th>label</th>\n",
       "    </tr>\n",
       "  </thead>\n",
       "  <tbody>\n",
       "    <tr>\n",
       "      <th>0</th>\n",
       "      <td>C:\\Users\\gotze\\OneDrive\\Desktop\\ESD Mf\\images\\...</td>\n",
       "      <td>angry</td>\n",
       "    </tr>\n",
       "    <tr>\n",
       "      <th>1</th>\n",
       "      <td>C:\\Users\\gotze\\OneDrive\\Desktop\\ESD Mf\\images\\...</td>\n",
       "      <td>angry</td>\n",
       "    </tr>\n",
       "    <tr>\n",
       "      <th>2</th>\n",
       "      <td>C:\\Users\\gotze\\OneDrive\\Desktop\\ESD Mf\\images\\...</td>\n",
       "      <td>angry</td>\n",
       "    </tr>\n",
       "    <tr>\n",
       "      <th>3</th>\n",
       "      <td>C:\\Users\\gotze\\OneDrive\\Desktop\\ESD Mf\\images\\...</td>\n",
       "      <td>angry</td>\n",
       "    </tr>\n",
       "    <tr>\n",
       "      <th>4</th>\n",
       "      <td>C:\\Users\\gotze\\OneDrive\\Desktop\\ESD Mf\\images\\...</td>\n",
       "      <td>angry</td>\n",
       "    </tr>\n",
       "  </tbody>\n",
       "</table>\n",
       "</div>"
      ],
      "text/plain": [
       "                                          image_path  label\n",
       "0  C:\\Users\\gotze\\OneDrive\\Desktop\\ESD Mf\\images\\...  angry\n",
       "1  C:\\Users\\gotze\\OneDrive\\Desktop\\ESD Mf\\images\\...  angry\n",
       "2  C:\\Users\\gotze\\OneDrive\\Desktop\\ESD Mf\\images\\...  angry\n",
       "3  C:\\Users\\gotze\\OneDrive\\Desktop\\ESD Mf\\images\\...  angry\n",
       "4  C:\\Users\\gotze\\OneDrive\\Desktop\\ESD Mf\\images\\...  angry"
      ]
     },
     "execution_count": 4,
     "metadata": {},
     "output_type": "execute_result"
    }
   ],
   "source": [
    "dataset.head()"
   ]
  },
  {
   "cell_type": "code",
   "execution_count": 5,
   "metadata": {},
   "outputs": [
    {
     "data": {
      "text/html": [
       "<div>\n",
       "<style scoped>\n",
       "    .dataframe tbody tr th:only-of-type {\n",
       "        vertical-align: middle;\n",
       "    }\n",
       "\n",
       "    .dataframe tbody tr th {\n",
       "        vertical-align: top;\n",
       "    }\n",
       "\n",
       "    .dataframe thead th {\n",
       "        text-align: right;\n",
       "    }\n",
       "</style>\n",
       "<table border=\"1\" class=\"dataframe\">\n",
       "  <thead>\n",
       "    <tr style=\"text-align: right;\">\n",
       "      <th></th>\n",
       "      <th>image_path</th>\n",
       "      <th>label</th>\n",
       "    </tr>\n",
       "  </thead>\n",
       "  <tbody>\n",
       "    <tr>\n",
       "      <th>0</th>\n",
       "      <td>C:\\Users\\gotze\\OneDrive\\Desktop\\ESD Mf\\images\\...</td>\n",
       "      <td>angry</td>\n",
       "    </tr>\n",
       "    <tr>\n",
       "      <th>1</th>\n",
       "      <td>C:\\Users\\gotze\\OneDrive\\Desktop\\ESD Mf\\images\\...</td>\n",
       "      <td>angry</td>\n",
       "    </tr>\n",
       "    <tr>\n",
       "      <th>2</th>\n",
       "      <td>C:\\Users\\gotze\\OneDrive\\Desktop\\ESD Mf\\images\\...</td>\n",
       "      <td>angry</td>\n",
       "    </tr>\n",
       "    <tr>\n",
       "      <th>3</th>\n",
       "      <td>C:\\Users\\gotze\\OneDrive\\Desktop\\ESD Mf\\images\\...</td>\n",
       "      <td>angry</td>\n",
       "    </tr>\n",
       "    <tr>\n",
       "      <th>4</th>\n",
       "      <td>C:\\Users\\gotze\\OneDrive\\Desktop\\ESD Mf\\images\\...</td>\n",
       "      <td>angry</td>\n",
       "    </tr>\n",
       "  </tbody>\n",
       "</table>\n",
       "</div>"
      ],
      "text/plain": [
       "                                          image_path  label\n",
       "0  C:\\Users\\gotze\\OneDrive\\Desktop\\ESD Mf\\images\\...  angry\n",
       "1  C:\\Users\\gotze\\OneDrive\\Desktop\\ESD Mf\\images\\...  angry\n",
       "2  C:\\Users\\gotze\\OneDrive\\Desktop\\ESD Mf\\images\\...  angry\n",
       "3  C:\\Users\\gotze\\OneDrive\\Desktop\\ESD Mf\\images\\...  angry\n",
       "4  C:\\Users\\gotze\\OneDrive\\Desktop\\ESD Mf\\images\\...  angry"
      ]
     },
     "execution_count": 5,
     "metadata": {},
     "output_type": "execute_result"
    }
   ],
   "source": [
    "val_dataset.head()"
   ]
  },
  {
   "cell_type": "code",
   "execution_count": 6,
   "metadata": {},
   "outputs": [
    {
     "data": {
      "text/plain": [
       "(28821, 2)"
      ]
     },
     "execution_count": 6,
     "metadata": {},
     "output_type": "execute_result"
    }
   ],
   "source": [
    "dataset.shape"
   ]
  },
  {
   "cell_type": "code",
   "execution_count": 7,
   "metadata": {},
   "outputs": [
    {
     "data": {
      "text/plain": [
       "(7066, 2)"
      ]
     },
     "execution_count": 7,
     "metadata": {},
     "output_type": "execute_result"
    }
   ],
   "source": [
    "val_dataset.shape"
   ]
  },
  {
   "cell_type": "code",
   "execution_count": 8,
   "metadata": {},
   "outputs": [
    {
     "data": {
      "text/plain": [
       "['C:\\\\Users\\\\gotze\\\\OneDrive\\\\Desktop\\\\ESD Mf\\\\images\\\\train\\\\angry\\\\0.jpg',\n",
       " 'C:\\\\Users\\\\gotze\\\\OneDrive\\\\Desktop\\\\ESD Mf\\\\images\\\\train\\\\angry\\\\1.jpg',\n",
       " 'C:\\\\Users\\\\gotze\\\\OneDrive\\\\Desktop\\\\ESD Mf\\\\images\\\\train\\\\angry\\\\10.jpg',\n",
       " 'C:\\\\Users\\\\gotze\\\\OneDrive\\\\Desktop\\\\ESD Mf\\\\images\\\\train\\\\angry\\\\10002.jpg',\n",
       " 'C:\\\\Users\\\\gotze\\\\OneDrive\\\\Desktop\\\\ESD Mf\\\\images\\\\train\\\\angry\\\\10016.jpg']"
      ]
     },
     "execution_count": 8,
     "metadata": {},
     "output_type": "execute_result"
    }
   ],
   "source": [
    "filepaths = []\n",
    "for label in dataset.image_path:\n",
    "    filepaths.append(label)\n",
    "\n",
    "filepaths[:5]"
   ]
  },
  {
   "cell_type": "code",
   "execution_count": 9,
   "metadata": {},
   "outputs": [
    {
     "data": {
      "text/plain": [
       "['C:\\\\Users\\\\gotze\\\\OneDrive\\\\Desktop\\\\ESD Mf\\\\images\\\\validation\\\\angry\\\\10052.jpg',\n",
       " 'C:\\\\Users\\\\gotze\\\\OneDrive\\\\Desktop\\\\ESD Mf\\\\images\\\\validation\\\\angry\\\\10065.jpg',\n",
       " 'C:\\\\Users\\\\gotze\\\\OneDrive\\\\Desktop\\\\ESD Mf\\\\images\\\\validation\\\\angry\\\\10079.jpg',\n",
       " 'C:\\\\Users\\\\gotze\\\\OneDrive\\\\Desktop\\\\ESD Mf\\\\images\\\\validation\\\\angry\\\\10095.jpg',\n",
       " 'C:\\\\Users\\\\gotze\\\\OneDrive\\\\Desktop\\\\ESD Mf\\\\images\\\\validation\\\\angry\\\\10121.jpg']"
      ]
     },
     "execution_count": 9,
     "metadata": {},
     "output_type": "execute_result"
    }
   ],
   "source": [
    "filepaths_val = []\n",
    "for label_v in val_dataset.image_path:\n",
    "    filepaths_val.append(label_v)\n",
    "\n",
    "filepaths_val[:5]"
   ]
  },
  {
   "cell_type": "code",
   "execution_count": 10,
   "metadata": {},
   "outputs": [],
   "source": [
    "def append_images():\n",
    "    images = []\n",
    "    val_images = []\n",
    "    for filepath in filepaths:\n",
    "        image = cv2.imread(filepath)\n",
    "        images.append(image)\n",
    "\n",
    "    for filepath_2 in filepaths_val:\n",
    "        image_2 = cv2.imread(filepath_2)\n",
    "        val_images.append(image_2)\n",
    "\n",
    "    return images, val_images"
   ]
  },
  {
   "cell_type": "code",
   "execution_count": null,
   "metadata": {},
   "outputs": [],
   "source": []
  },
  {
   "cell_type": "code",
   "execution_count": 11,
   "metadata": {},
   "outputs": [
    {
     "data": {
      "text/plain": [
       "[array([[[ 72,  72,  72],\n",
       "         [ 78,  78,  78],\n",
       "         [ 81,  81,  81],\n",
       "         ...,\n",
       "         [ 52,  52,  52],\n",
       "         [ 43,  43,  43],\n",
       "         [ 40,  40,  40]],\n",
       " \n",
       "        [[ 65,  65,  65],\n",
       "         [ 62,  62,  62],\n",
       "         [ 59,  59,  59],\n",
       "         ...,\n",
       "         [ 55,  55,  55],\n",
       "         [ 52,  52,  52],\n",
       "         [ 45,  45,  45]],\n",
       " \n",
       "        [[ 47,  47,  47],\n",
       "         [ 42,  42,  42],\n",
       "         [ 60,  60,  60],\n",
       "         ...,\n",
       "         [ 47,  47,  47],\n",
       "         [ 54,  54,  54],\n",
       "         [ 49,  49,  49]],\n",
       " \n",
       "        ...,\n",
       " \n",
       "        [[ 91,  91,  91],\n",
       "         [ 65,  65,  65],\n",
       "         [ 46,  46,  46],\n",
       "         ...,\n",
       "         [ 74,  74,  74],\n",
       "         [ 54,  54,  54],\n",
       "         [ 43,  43,  43]],\n",
       " \n",
       "        [[ 76,  76,  76],\n",
       "         [ 80,  80,  80],\n",
       "         [ 76,  76,  76],\n",
       "         ...,\n",
       "         [108, 108, 108],\n",
       "         [ 69,  69,  69],\n",
       "         [ 46,  46,  46]],\n",
       " \n",
       "        [[ 77,  77,  77],\n",
       "         [ 74,  74,  74],\n",
       "         [ 81,  81,  81],\n",
       "         ...,\n",
       "         [105, 105, 105],\n",
       "         [108, 108, 108],\n",
       "         [ 82,  82,  82]]], dtype=uint8)]"
      ]
     },
     "execution_count": 11,
     "metadata": {},
     "output_type": "execute_result"
    }
   ],
   "source": [
    "images = []\n",
    "val_images = []\n",
    "images, val_images = append_images()\n",
    "images[:1]"
   ]
  },
  {
   "cell_type": "code",
   "execution_count": 12,
   "metadata": {},
   "outputs": [
    {
     "data": {
      "text/plain": [
       "[array([[[58, 58, 58],\n",
       "         [66, 66, 66],\n",
       "         [70, 70, 70],\n",
       "         ...,\n",
       "         [51, 51, 51],\n",
       "         [47, 47, 47],\n",
       "         [35, 35, 35]],\n",
       " \n",
       "        [[62, 62, 62],\n",
       "         [64, 64, 64],\n",
       "         [73, 73, 73],\n",
       "         ...,\n",
       "         [59, 59, 59],\n",
       "         [51, 51, 51],\n",
       "         [42, 42, 42]],\n",
       " \n",
       "        [[66, 66, 66],\n",
       "         [69, 69, 69],\n",
       "         [87, 87, 87],\n",
       "         ...,\n",
       "         [58, 58, 58],\n",
       "         [54, 54, 54],\n",
       "         [53, 53, 53]],\n",
       " \n",
       "        ...,\n",
       " \n",
       "        [[ 8,  8,  8],\n",
       "         [15, 15, 15],\n",
       "         [19, 19, 19],\n",
       "         ...,\n",
       "         [ 5,  5,  5],\n",
       "         [ 7,  7,  7],\n",
       "         [ 8,  8,  8]],\n",
       " \n",
       "        [[ 6,  6,  6],\n",
       "         [14, 14, 14],\n",
       "         [17, 17, 17],\n",
       "         ...,\n",
       "         [ 4,  4,  4],\n",
       "         [ 7,  7,  7],\n",
       "         [10, 10, 10]],\n",
       " \n",
       "        [[ 8,  8,  8],\n",
       "         [15, 15, 15],\n",
       "         [20, 20, 20],\n",
       "         ...,\n",
       "         [ 5,  5,  5],\n",
       "         [ 7,  7,  7],\n",
       "         [ 9,  9,  9]]], dtype=uint8)]"
      ]
     },
     "execution_count": 12,
     "metadata": {},
     "output_type": "execute_result"
    }
   ],
   "source": [
    "val_images[:1]"
   ]
  },
  {
   "cell_type": "code",
   "execution_count": 13,
   "metadata": {},
   "outputs": [
    {
     "data": {
      "image/png": "[encoded data removed]",
      "text/plain": [
       "<Figure size 480x480 with 1 Axes>"
      ]
     },
     "metadata": {},
     "output_type": "display_data"
    },
    {
     "data": {
      "image/png": "[encoded data removed]",
      "text/plain": [
       "<Figure size 480x480 with 1 Axes>"
      ]
     },
     "metadata": {},
     "output_type": "display_data"
    },
    {
     "data": {
      "image/png": "[encoded data removed]",
      "text/plain": [
       "<Figure size 480x480 with 1 Axes>"
      ]
     },
     "metadata": {},
     "output_type": "display_data"
    },
    {
     "data": {
      "image/png": "[encoded data removed]",
      "text/plain": [
       "<Figure size 480x480 with 1 Axes>"
      ]
     },
     "metadata": {},
     "output_type": "display_data"
    },
    {
     "data": {
      "image/png": "[encoded data removed]",
      "text/plain": [
       "<Figure size 480x480 with 1 Axes>"
      ]
     },
     "metadata": {},
     "output_type": "display_data"
    }
   ],
   "source": [
    "for img in images[:5]:\n",
    "    plt.matshow(img)"
   ]
  },
  {
   "cell_type": "code",
   "execution_count": 14,
   "metadata": {},
   "outputs": [
    {
     "data": {
      "image/png": "[encoded data removed]",
      "text/plain": [
       "<Figure size 480x480 with 1 Axes>"
      ]
     },
     "metadata": {},
     "output_type": "display_data"
    },
    {
     "data": {
      "image/png": "[encoded data removed]",
      "text/plain": [
       "<Figure size 480x480 with 1 Axes>"
      ]
     },
     "metadata": {},
     "output_type": "display_data"
    },
    {
     "data": {
      "image/png": "[encoded data removed]",
      "text/plain": [
       "<Figure size 480x480 with 1 Axes>"
      ]
     },
     "metadata": {},
     "output_type": "display_data"
    },
    {
     "data": {
      "image/png": "[encoded data removed]",
      "text/plain": [
       "<Figure size 480x480 with 1 Axes>"
      ]
     },
     "metadata": {},
     "output_type": "display_data"
    },
    {
     "data": {
      "image/png": "[encoded data removed]",
      "text/plain": [
       "<Figure size 480x480 with 1 Axes>"
      ]
     },
     "metadata": {},
     "output_type": "display_data"
    }
   ],
   "source": [
    "for imgs in val_images[:5]:\n",
    "    plt.matshow(imgs)"
   ]
  },
  {
   "cell_type": "code",
   "execution_count": 15,
   "metadata": {},
   "outputs": [],
   "source": [
    "images = np.array(images)\n",
    "val_images = np.array(val_images)"
   ]
  },
  {
   "cell_type": "code",
   "execution_count": 16,
   "metadata": {},
   "outputs": [],
   "source": [
    "dataset['images_n'] = list(images)\n",
    "val_dataset['images_n'] = list(val_images)"
   ]
  },
  {
   "cell_type": "code",
   "execution_count": 17,
   "metadata": {},
   "outputs": [
    {
     "data": {
      "text/html": [
       "<div>\n",
       "<style scoped>\n",
       "    .dataframe tbody tr th:only-of-type {\n",
       "        vertical-align: middle;\n",
       "    }\n",
       "\n",
       "    .dataframe tbody tr th {\n",
       "        vertical-align: top;\n",
       "    }\n",
       "\n",
       "    .dataframe thead th {\n",
       "        text-align: right;\n",
       "    }\n",
       "</style>\n",
       "<table border=\"1\" class=\"dataframe\">\n",
       "  <thead>\n",
       "    <tr style=\"text-align: right;\">\n",
       "      <th></th>\n",
       "      <th>image_path</th>\n",
       "      <th>label</th>\n",
       "      <th>images_n</th>\n",
       "    </tr>\n",
       "  </thead>\n",
       "  <tbody>\n",
       "    <tr>\n",
       "      <th>0</th>\n",
       "      <td>C:\\Users\\gotze\\OneDrive\\Desktop\\ESD Mf\\images\\...</td>\n",
       "      <td>angry</td>\n",
       "      <td>[[[72, 72, 72], [78, 78, 78], [81, 81, 81], [7...</td>\n",
       "    </tr>\n",
       "    <tr>\n",
       "      <th>1</th>\n",
       "      <td>C:\\Users\\gotze\\OneDrive\\Desktop\\ESD Mf\\images\\...</td>\n",
       "      <td>angry</td>\n",
       "      <td>[[[152, 152, 152], [149, 149, 149], [147, 147,...</td>\n",
       "    </tr>\n",
       "    <tr>\n",
       "      <th>2</th>\n",
       "      <td>C:\\Users\\gotze\\OneDrive\\Desktop\\ESD Mf\\images\\...</td>\n",
       "      <td>angry</td>\n",
       "      <td>[[[29, 29, 29], [25, 25, 25], [21, 21, 21], [2...</td>\n",
       "    </tr>\n",
       "    <tr>\n",
       "      <th>3</th>\n",
       "      <td>C:\\Users\\gotze\\OneDrive\\Desktop\\ESD Mf\\images\\...</td>\n",
       "      <td>angry</td>\n",
       "      <td>[[[32, 32, 32], [23, 23, 23], [20, 20, 20], [5...</td>\n",
       "    </tr>\n",
       "    <tr>\n",
       "      <th>4</th>\n",
       "      <td>C:\\Users\\gotze\\OneDrive\\Desktop\\ESD Mf\\images\\...</td>\n",
       "      <td>angry</td>\n",
       "      <td>[[[222, 222, 222], [218, 218, 218], [202, 202,...</td>\n",
       "    </tr>\n",
       "  </tbody>\n",
       "</table>\n",
       "</div>"
      ],
      "text/plain": [
       "                                          image_path  label  \\\n",
       "0  C:\\Users\\gotze\\OneDrive\\Desktop\\ESD Mf\\images\\...  angry   \n",
       "1  C:\\Users\\gotze\\OneDrive\\Desktop\\ESD Mf\\images\\...  angry   \n",
       "2  C:\\Users\\gotze\\OneDrive\\Desktop\\ESD Mf\\images\\...  angry   \n",
       "3  C:\\Users\\gotze\\OneDrive\\Desktop\\ESD Mf\\images\\...  angry   \n",
       "4  C:\\Users\\gotze\\OneDrive\\Desktop\\ESD Mf\\images\\...  angry   \n",
       "\n",
       "                                            images_n  \n",
       "0  [[[72, 72, 72], [78, 78, 78], [81, 81, 81], [7...  \n",
       "1  [[[152, 152, 152], [149, 149, 149], [147, 147,...  \n",
       "2  [[[29, 29, 29], [25, 25, 25], [21, 21, 21], [2...  \n",
       "3  [[[32, 32, 32], [23, 23, 23], [20, 20, 20], [5...  \n",
       "4  [[[222, 222, 222], [218, 218, 218], [202, 202,...  "
      ]
     },
     "execution_count": 17,
     "metadata": {},
     "output_type": "execute_result"
    }
   ],
   "source": [
    "dataset.head()"
   ]
  },
  {
   "cell_type": "code",
   "execution_count": 18,
   "metadata": {},
   "outputs": [
    {
     "data": {
      "text/html": [
       "<div>\n",
       "<style scoped>\n",
       "    .dataframe tbody tr th:only-of-type {\n",
       "        vertical-align: middle;\n",
       "    }\n",
       "\n",
       "    .dataframe tbody tr th {\n",
       "        vertical-align: top;\n",
       "    }\n",
       "\n",
       "    .dataframe thead th {\n",
       "        text-align: right;\n",
       "    }\n",
       "</style>\n",
       "<table border=\"1\" class=\"dataframe\">\n",
       "  <thead>\n",
       "    <tr style=\"text-align: right;\">\n",
       "      <th></th>\n",
       "      <th>image_path</th>\n",
       "      <th>label</th>\n",
       "      <th>images_n</th>\n",
       "    </tr>\n",
       "  </thead>\n",
       "  <tbody>\n",
       "    <tr>\n",
       "      <th>0</th>\n",
       "      <td>C:\\Users\\gotze\\OneDrive\\Desktop\\ESD Mf\\images\\...</td>\n",
       "      <td>angry</td>\n",
       "      <td>[[[58, 58, 58], [66, 66, 66], [70, 70, 70], [7...</td>\n",
       "    </tr>\n",
       "    <tr>\n",
       "      <th>1</th>\n",
       "      <td>C:\\Users\\gotze\\OneDrive\\Desktop\\ESD Mf\\images\\...</td>\n",
       "      <td>angry</td>\n",
       "      <td>[[[23, 23, 23], [26, 26, 26], [21, 21, 21], [9...</td>\n",
       "    </tr>\n",
       "    <tr>\n",
       "      <th>2</th>\n",
       "      <td>C:\\Users\\gotze\\OneDrive\\Desktop\\ESD Mf\\images\\...</td>\n",
       "      <td>angry</td>\n",
       "      <td>[[[201, 201, 201], [182, 182, 182], [182, 182,...</td>\n",
       "    </tr>\n",
       "    <tr>\n",
       "      <th>3</th>\n",
       "      <td>C:\\Users\\gotze\\OneDrive\\Desktop\\ESD Mf\\images\\...</td>\n",
       "      <td>angry</td>\n",
       "      <td>[[[93, 93, 93], [86, 86, 86], [78, 78, 78], [7...</td>\n",
       "    </tr>\n",
       "    <tr>\n",
       "      <th>4</th>\n",
       "      <td>C:\\Users\\gotze\\OneDrive\\Desktop\\ESD Mf\\images\\...</td>\n",
       "      <td>angry</td>\n",
       "      <td>[[[11, 11, 11], [6, 6, 6], [1, 1, 1], [0, 0, 0...</td>\n",
       "    </tr>\n",
       "  </tbody>\n",
       "</table>\n",
       "</div>"
      ],
      "text/plain": [
       "                                          image_path  label  \\\n",
       "0  C:\\Users\\gotze\\OneDrive\\Desktop\\ESD Mf\\images\\...  angry   \n",
       "1  C:\\Users\\gotze\\OneDrive\\Desktop\\ESD Mf\\images\\...  angry   \n",
       "2  C:\\Users\\gotze\\OneDrive\\Desktop\\ESD Mf\\images\\...  angry   \n",
       "3  C:\\Users\\gotze\\OneDrive\\Desktop\\ESD Mf\\images\\...  angry   \n",
       "4  C:\\Users\\gotze\\OneDrive\\Desktop\\ESD Mf\\images\\...  angry   \n",
       "\n",
       "                                            images_n  \n",
       "0  [[[58, 58, 58], [66, 66, 66], [70, 70, 70], [7...  \n",
       "1  [[[23, 23, 23], [26, 26, 26], [21, 21, 21], [9...  \n",
       "2  [[[201, 201, 201], [182, 182, 182], [182, 182,...  \n",
       "3  [[[93, 93, 93], [86, 86, 86], [78, 78, 78], [7...  \n",
       "4  [[[11, 11, 11], [6, 6, 6], [1, 1, 1], [0, 0, 0...  "
      ]
     },
     "execution_count": 18,
     "metadata": {},
     "output_type": "execute_result"
    }
   ],
   "source": [
    "val_dataset.head()"
   ]
  },
  {
   "cell_type": "code",
   "execution_count": 19,
   "metadata": {},
   "outputs": [
    {
     "data": {
      "text/html": [
       "<div>\n",
       "<style scoped>\n",
       "    .dataframe tbody tr th:only-of-type {\n",
       "        vertical-align: middle;\n",
       "    }\n",
       "\n",
       "    .dataframe tbody tr th {\n",
       "        vertical-align: top;\n",
       "    }\n",
       "\n",
       "    .dataframe thead th {\n",
       "        text-align: right;\n",
       "    }\n",
       "</style>\n",
       "<table border=\"1\" class=\"dataframe\">\n",
       "  <thead>\n",
       "    <tr style=\"text-align: right;\">\n",
       "      <th></th>\n",
       "      <th>label</th>\n",
       "      <th>images_n</th>\n",
       "    </tr>\n",
       "  </thead>\n",
       "  <tbody>\n",
       "    <tr>\n",
       "      <th>0</th>\n",
       "      <td>angry</td>\n",
       "      <td>[[[72, 72, 72], [78, 78, 78], [81, 81, 81], [7...</td>\n",
       "    </tr>\n",
       "    <tr>\n",
       "      <th>1</th>\n",
       "      <td>angry</td>\n",
       "      <td>[[[152, 152, 152], [149, 149, 149], [147, 147,...</td>\n",
       "    </tr>\n",
       "    <tr>\n",
       "      <th>2</th>\n",
       "      <td>angry</td>\n",
       "      <td>[[[29, 29, 29], [25, 25, 25], [21, 21, 21], [2...</td>\n",
       "    </tr>\n",
       "  </tbody>\n",
       "</table>\n",
       "</div>"
      ],
      "text/plain": [
       "   label                                           images_n\n",
       "0  angry  [[[72, 72, 72], [78, 78, 78], [81, 81, 81], [7...\n",
       "1  angry  [[[152, 152, 152], [149, 149, 149], [147, 147,...\n",
       "2  angry  [[[29, 29, 29], [25, 25, 25], [21, 21, 21], [2..."
      ]
     },
     "execution_count": 19,
     "metadata": {},
     "output_type": "execute_result"
    }
   ],
   "source": [
    "dataset = dataset.drop('image_path', axis='columns')\n",
    "val_dataset = val_dataset.drop('image_path', axis='columns')\n",
    "dataset.head(3)"
   ]
  },
  {
   "cell_type": "code",
   "execution_count": 20,
   "metadata": {},
   "outputs": [
    {
     "data": {
      "text/html": [
       "<div>\n",
       "<style scoped>\n",
       "    .dataframe tbody tr th:only-of-type {\n",
       "        vertical-align: middle;\n",
       "    }\n",
       "\n",
       "    .dataframe tbody tr th {\n",
       "        vertical-align: top;\n",
       "    }\n",
       "\n",
       "    .dataframe thead th {\n",
       "        text-align: right;\n",
       "    }\n",
       "</style>\n",
       "<table border=\"1\" class=\"dataframe\">\n",
       "  <thead>\n",
       "    <tr style=\"text-align: right;\">\n",
       "      <th></th>\n",
       "      <th>label</th>\n",
       "      <th>images_n</th>\n",
       "    </tr>\n",
       "  </thead>\n",
       "  <tbody>\n",
       "    <tr>\n",
       "      <th>0</th>\n",
       "      <td>angry</td>\n",
       "      <td>[[[58, 58, 58], [66, 66, 66], [70, 70, 70], [7...</td>\n",
       "    </tr>\n",
       "    <tr>\n",
       "      <th>1</th>\n",
       "      <td>angry</td>\n",
       "      <td>[[[23, 23, 23], [26, 26, 26], [21, 21, 21], [9...</td>\n",
       "    </tr>\n",
       "    <tr>\n",
       "      <th>2</th>\n",
       "      <td>angry</td>\n",
       "      <td>[[[201, 201, 201], [182, 182, 182], [182, 182,...</td>\n",
       "    </tr>\n",
       "  </tbody>\n",
       "</table>\n",
       "</div>"
      ],
      "text/plain": [
       "   label                                           images_n\n",
       "0  angry  [[[58, 58, 58], [66, 66, 66], [70, 70, 70], [7...\n",
       "1  angry  [[[23, 23, 23], [26, 26, 26], [21, 21, 21], [9...\n",
       "2  angry  [[[201, 201, 201], [182, 182, 182], [182, 182,..."
      ]
     },
     "execution_count": 20,
     "metadata": {},
     "output_type": "execute_result"
    }
   ],
   "source": [
    "val_dataset.head(3)"
   ]
  },
  {
   "cell_type": "code",
   "execution_count": 21,
   "metadata": {},
   "outputs": [],
   "source": [
    "dataset['images_n'] = dataset['images_n']/255\n",
    "val_dataset['images_n'] = val_dataset['images_n']/255"
   ]
  },
  {
   "cell_type": "code",
   "execution_count": 22,
   "metadata": {},
   "outputs": [
    {
     "data": {
      "text/html": [
       "<div>\n",
       "<style scoped>\n",
       "    .dataframe tbody tr th:only-of-type {\n",
       "        vertical-align: middle;\n",
       "    }\n",
       "\n",
       "    .dataframe tbody tr th {\n",
       "        vertical-align: top;\n",
       "    }\n",
       "\n",
       "    .dataframe thead th {\n",
       "        text-align: right;\n",
       "    }\n",
       "</style>\n",
       "<table border=\"1\" class=\"dataframe\">\n",
       "  <thead>\n",
       "    <tr style=\"text-align: right;\">\n",
       "      <th></th>\n",
       "      <th>label</th>\n",
       "      <th>images_n</th>\n",
       "    </tr>\n",
       "  </thead>\n",
       "  <tbody>\n",
       "    <tr>\n",
       "      <th>0</th>\n",
       "      <td>angry</td>\n",
       "      <td>[[[0.2823529411764706, 0.2823529411764706, 0.2...</td>\n",
       "    </tr>\n",
       "    <tr>\n",
       "      <th>1</th>\n",
       "      <td>angry</td>\n",
       "      <td>[[[0.596078431372549, 0.596078431372549, 0.596...</td>\n",
       "    </tr>\n",
       "    <tr>\n",
       "      <th>2</th>\n",
       "      <td>angry</td>\n",
       "      <td>[[[0.11372549019607843, 0.11372549019607843, 0...</td>\n",
       "    </tr>\n",
       "  </tbody>\n",
       "</table>\n",
       "</div>"
      ],
      "text/plain": [
       "   label                                           images_n\n",
       "0  angry  [[[0.2823529411764706, 0.2823529411764706, 0.2...\n",
       "1  angry  [[[0.596078431372549, 0.596078431372549, 0.596...\n",
       "2  angry  [[[0.11372549019607843, 0.11372549019607843, 0..."
      ]
     },
     "execution_count": 22,
     "metadata": {},
     "output_type": "execute_result"
    }
   ],
   "source": [
    "dataset.head(3)"
   ]
  },
  {
   "cell_type": "markdown",
   "metadata": {},
   "source": [
    "# Creating a Neural Network"
   ]
  },
  {
   "cell_type": "code",
   "execution_count": 23,
   "metadata": {},
   "outputs": [],
   "source": [
    "X_train = np.stack(dataset['images_n'].values)\n",
    "y_train = dataset['label'].values"
   ]
  },
  {
   "cell_type": "code",
   "execution_count": 24,
   "metadata": {},
   "outputs": [],
   "source": [
    "X_val = np.stack(val_dataset['images_n'].values)\n",
    "y_val = val_dataset['label'].values"
   ]
  },
  {
   "cell_type": "code",
   "execution_count": 25,
   "metadata": {},
   "outputs": [],
   "source": [
    "label_mapping = {label: idx for idx, label in enumerate(np.unique(y_train))}\n",
    "y_train = np.array([label_mapping[label] for label in y_train])\n",
    "y_val = np.array([label_mapping[label] for label in y_val])"
   ]
  },
  {
   "cell_type": "code",
   "execution_count": 26,
   "metadata": {},
   "outputs": [
    {
     "data": {
      "text/plain": [
       "array(['angry', 'disgust', 'fear', 'happy', 'neutral', 'sad', 'surprise'],\n",
       "      dtype=object)"
      ]
     },
     "execution_count": 26,
     "metadata": {},
     "output_type": "execute_result"
    }
   ],
   "source": [
    "emotions = np.array(dataset.label.unique())\n",
    "emotions"
   ]
  },
  {
   "cell_type": "code",
   "execution_count": 27,
   "metadata": {},
   "outputs": [],
   "source": [
    "from tensorflow.keras.utils import to_categorical\n",
    "y_train = to_categorical(y_train, num_classes=7)\n",
    "y_val = to_categorical(y_val, num_classes=7)"
   ]
  },
  {
   "cell_type": "code",
   "execution_count": 28,
   "metadata": {},
   "outputs": [
    {
     "data": {
      "text/plain": [
       "array([[0., 0., 0., 0., 1., 0., 0.],\n",
       "       [0., 0., 0., 0., 1., 0., 0.],\n",
       "       [0., 0., 0., 0., 1., 0., 0.],\n",
       "       [0., 0., 0., 0., 1., 0., 0.],\n",
       "       [0., 0., 0., 0., 1., 0., 0.],\n",
       "       [0., 0., 0., 0., 1., 0., 0.],\n",
       "       [0., 0., 0., 0., 1., 0., 0.],\n",
       "       [0., 0., 0., 0., 1., 0., 0.],\n",
       "       [0., 0., 0., 0., 1., 0., 0.],\n",
       "       [0., 0., 0., 0., 1., 0., 0.],\n",
       "       [0., 0., 0., 0., 1., 0., 0.],\n",
       "       [0., 0., 0., 0., 1., 0., 0.]])"
      ]
     },
     "execution_count": 28,
     "metadata": {},
     "output_type": "execute_result"
    }
   ],
   "source": [
    "y_train[18888:18900]"
   ]
  },
  {
   "cell_type": "code",
   "execution_count": 29,
   "metadata": {},
   "outputs": [],
   "source": [
    "img_height, img_width = 48, 48\n",
    "batch_size = 64  # An appropriate batch size for your dataset\n",
    "num_classes = 7  # Number of classes in the output layer"
   ]
  },
  {
   "cell_type": "code",
   "execution_count": 30,
   "metadata": {},
   "outputs": [],
   "source": [
    "from tensorflow.keras.layers import Conv2D, MaxPooling2D, Flatten, Dense, Dropout"
   ]
  },
  {
   "cell_type": "code",
   "execution_count": 31,
   "metadata": {},
   "outputs": [],
   "source": [
    "from tensorflow.keras.applications import MobileNetV2\n",
    "from tensorflow.keras.models import Model\n",
    "from tensorflow.keras.layers import Dense, GlobalAveragePooling2D\n",
    "from tensorflow.keras.optimizers import Adam"
   ]
  },
  {
   "cell_type": "code",
   "execution_count": 59,
   "metadata": {},
   "outputs": [
    {
     "name": "stderr",
     "output_type": "stream",
     "text": [
      "C:\\Users\\gotze\\AppData\\Local\\Temp\\ipykernel_19404\\1192342740.py:1: UserWarning: `input_shape` is undefined or non-square, or `rows` is not in [96, 128, 160, 192, 224]. Weights for input shape (224, 224) will be loaded as the default.\n",
      "  base_model = MobileNetV2(weights='imagenet', include_top=False, input_shape=(48, 48, 3))\n"
     ]
    }
   ],
   "source": [
    "base_model = MobileNetV2(weights='imagenet', include_top=False, input_shape=(48, 48, 3))\n",
    "\n",
    "# Freeze the base model\n",
    "base_model.trainable = False"
   ]
  },
  {
   "cell_type": "code",
   "execution_count": 32,
   "metadata": {},
   "outputs": [],
   "source": [
    "datagen = tf.keras.preprocessing.image.ImageDataGenerator(\n",
    "    rotation_range=20,\n",
    "    width_shift_range=0.2,\n",
    "    height_shift_range=0.2,\n",
    "    shear_range=0.2,\n",
    "    zoom_range=0.2,\n",
    "    horizontal_flip=True,\n",
    "    fill_mode='nearest'\n",
    ")"
   ]
  },
  {
   "cell_type": "code",
   "execution_count": 65,
   "metadata": {},
   "outputs": [],
   "source": [
    "x = base_model.output\n",
    "x = GlobalAveragePooling2D()(x)\n",
    "x = Dropout(0.5)(x)  # Add dropout layer\n",
    "x = Dense(1024, activation='relu', kernel_regularizer=tf.keras.regularizers.l2(0.01))(x)  # Add L2 regularization\n",
    "predictions = Dense(num_classes, activation='softmax')(x) "
   ]
  },
  {
   "cell_type": "code",
   "execution_count": 66,
   "metadata": {},
   "outputs": [],
   "source": [
    "model = Model(inputs=base_model.input, outputs=predictions)\n",
    "\n",
    "# Compile the model\n",
    "model.compile(optimizer=Adam(learning_rate=0.001), loss='categorical_crossentropy', metrics=['accuracy'])"
   ]
  },
  {
   "cell_type": "code",
   "execution_count": 38,
   "metadata": {},
   "outputs": [],
   "source": [
    "from tensorflow.keras.callbacks import EarlyStopping\n",
    "early_stopping = EarlyStopping(monitor='val_loss', patience=10, restore_best_weights=True)"
   ]
  },
  {
   "cell_type": "code",
   "execution_count": 69,
   "metadata": {},
   "outputs": [],
   "source": [
    "model.save('C:\\\\Users\\\\gotze\\\\OneDrive\\\\Desktop\\\\ESD Mf\\\\Model1.keras')"
   ]
  },
  {
   "cell_type": "code",
   "execution_count": 34,
   "metadata": {},
   "outputs": [],
   "source": [
    "from tensorflow.keras.models import load_model"
   ]
  },
  {
   "cell_type": "code",
   "execution_count": 50,
   "metadata": {},
   "outputs": [],
   "source": [
    "model = load_model('C:\\\\Users\\\\gotze\\\\OneDrive\\\\Desktop\\\\ESD Mf\\\\Model2.keras')"
   ]
  },
  {
   "cell_type": "code",
   "execution_count": 51,
   "metadata": {},
   "outputs": [],
   "source": [
    "model.compile(optimizer=Adam(learning_rate=0.001), loss='categorical_crossentropy', metrics=['accuracy'])"
   ]
  },
  {
   "cell_type": "code",
   "execution_count": 54,
   "metadata": {},
   "outputs": [
    {
     "name": "stdout",
     "output_type": "stream",
     "text": [
      "Epoch 1/30\n",
      "\u001b[1m451/451\u001b[0m \u001b[32m━━━━━━━━━━━━━━━━━━━━\u001b[0m\u001b[37m\u001b[0m \u001b[1m168s\u001b[0m 370ms/step - accuracy: 0.6905 - loss: 0.8440 - val_accuracy: 0.6480 - val_loss: 1.0038\n",
      "Epoch 2/30\n",
      "\u001b[1m451/451\u001b[0m \u001b[32m━━━━━━━━━━━━━━━━━━━━\u001b[0m\u001b[37m\u001b[0m \u001b[1m169s\u001b[0m 374ms/step - accuracy: 0.6979 - loss: 0.8346 - val_accuracy: 0.6469 - val_loss: 1.0073\n",
      "Epoch 3/30\n",
      "\u001b[1m451/451\u001b[0m \u001b[32m━━━━━━━━━━━━━━━━━━━━\u001b[0m\u001b[37m\u001b[0m \u001b[1m170s\u001b[0m 376ms/step - accuracy: 0.6950 - loss: 0.8391 - val_accuracy: 0.6404 - val_loss: 1.0117\n",
      "Epoch 4/30\n",
      "\u001b[1m451/451\u001b[0m \u001b[32m━━━━━━━━━━━━━━━━━━━━\u001b[0m\u001b[37m\u001b[0m \u001b[1m168s\u001b[0m 372ms/step - accuracy: 0.6969 - loss: 0.8383 - val_accuracy: 0.6394 - val_loss: 1.0326\n",
      "Epoch 5/30\n",
      "\u001b[1m451/451\u001b[0m \u001b[32m━━━━━━━━━━━━━━━━━━━━\u001b[0m\u001b[37m\u001b[0m \u001b[1m170s\u001b[0m 376ms/step - accuracy: 0.6953 - loss: 0.8403 - val_accuracy: 0.6172 - val_loss: 1.1923\n",
      "Epoch 6/30\n",
      "\u001b[1m451/451\u001b[0m \u001b[32m━━━━━━━━━━━━━━━━━━━━\u001b[0m\u001b[37m\u001b[0m \u001b[1m162s\u001b[0m 359ms/step - accuracy: 0.6961 - loss: 0.8343 - val_accuracy: 0.6186 - val_loss: 1.0995\n",
      "Epoch 7/30\n",
      "\u001b[1m451/451\u001b[0m \u001b[32m━━━━━━━━━━━━━━━━━━━━\u001b[0m\u001b[37m\u001b[0m \u001b[1m163s\u001b[0m 361ms/step - accuracy: 0.7019 - loss: 0.8257 - val_accuracy: 0.6216 - val_loss: 1.0916\n",
      "Epoch 8/30\n",
      "\u001b[1m451/451\u001b[0m \u001b[32m━━━━━━━━━━━━━━━━━━━━\u001b[0m\u001b[37m\u001b[0m \u001b[1m164s\u001b[0m 364ms/step - accuracy: 0.6982 - loss: 0.8321 - val_accuracy: 0.6369 - val_loss: 1.0450\n",
      "Epoch 9/30\n",
      "\u001b[1m451/451\u001b[0m \u001b[32m━━━━━━━━━━━━━━━━━━━━\u001b[0m\u001b[37m\u001b[0m \u001b[1m164s\u001b[0m 362ms/step - accuracy: 0.6978 - loss: 0.8263 - val_accuracy: 0.6224 - val_loss: 1.0995\n",
      "Epoch 10/30\n",
      "\u001b[1m451/451\u001b[0m \u001b[32m━━━━━━━━━━━━━━━━━━━━\u001b[0m\u001b[37m\u001b[0m \u001b[1m164s\u001b[0m 362ms/step - accuracy: 0.7037 - loss: 0.8173 - val_accuracy: 0.6159 - val_loss: 1.0925\n"
     ]
    },
    {
     "data": {
      "text/plain": [
       "<keras.src.callbacks.history.History at 0x1c375443bd0>"
      ]
     },
     "execution_count": 54,
     "metadata": {},
     "output_type": "execute_result"
    }
   ],
   "source": [
    "model.fit(\n",
    "    datagen.flow(X_train, y_train, batch_size=64),\n",
    "    epochs=30,\n",
    "    validation_data=(X_val, y_val),\n",
    "    callbacks=[early_stopping]\n",
    ")"
   ]
  },
  {
   "cell_type": "code",
   "execution_count": 55,
   "metadata": {},
   "outputs": [],
   "source": [
    "model.save('C:\\\\Users\\\\gotze\\\\OneDrive\\\\Desktop\\\\ESD Mf\\\\Model2.keras')"
   ]
  },
  {
   "cell_type": "code",
   "execution_count": 56,
   "metadata": {},
   "outputs": [],
   "source": [
    "from tensorflow.keras.preprocessing import image"
   ]
  },
  {
   "cell_type": "code",
   "execution_count": 61,
   "metadata": {},
   "outputs": [],
   "source": [
    "def predict_emotion(model, img_path):\n",
    "    # Load the image\n",
    "    img = cv2.imread(img_path)\n",
    "    # Convert the image to array\n",
    "    # Reshape and scale the image\n",
    "    img = np.expand_dims(img, axis=0) / 255.0\n",
    "    \n",
    "    # Predict the emotion\n",
    "    predictions = model.predict(img)\n",
    "    # Get the index of the highest probability\n",
    "    max_index = np.argmax(predictions)\n",
    "    \n",
    "    # Return the corresponding emotion\n",
    "    return emotions[max_index]"
   ]
  },
  {
   "cell_type": "code",
   "execution_count": 58,
   "metadata": {},
   "outputs": [
    {
     "data": {
      "text/html": [
       "<div>\n",
       "<style scoped>\n",
       "    .dataframe tbody tr th:only-of-type {\n",
       "        vertical-align: middle;\n",
       "    }\n",
       "\n",
       "    .dataframe tbody tr th {\n",
       "        vertical-align: top;\n",
       "    }\n",
       "\n",
       "    .dataframe thead th {\n",
       "        text-align: right;\n",
       "    }\n",
       "</style>\n",
       "<table border=\"1\" class=\"dataframe\">\n",
       "  <thead>\n",
       "    <tr style=\"text-align: right;\">\n",
       "      <th></th>\n",
       "      <th>label</th>\n",
       "      <th>images_n</th>\n",
       "    </tr>\n",
       "  </thead>\n",
       "  <tbody>\n",
       "    <tr>\n",
       "      <th>0</th>\n",
       "      <td>angry</td>\n",
       "      <td>[[[0.22745098039215686, 0.22745098039215686, 0...</td>\n",
       "    </tr>\n",
       "    <tr>\n",
       "      <th>1</th>\n",
       "      <td>angry</td>\n",
       "      <td>[[[0.09019607843137255, 0.09019607843137255, 0...</td>\n",
       "    </tr>\n",
       "    <tr>\n",
       "      <th>2</th>\n",
       "      <td>angry</td>\n",
       "      <td>[[[0.788235294117647, 0.788235294117647, 0.788...</td>\n",
       "    </tr>\n",
       "    <tr>\n",
       "      <th>3</th>\n",
       "      <td>angry</td>\n",
       "      <td>[[[0.36470588235294116, 0.36470588235294116, 0...</td>\n",
       "    </tr>\n",
       "    <tr>\n",
       "      <th>4</th>\n",
       "      <td>angry</td>\n",
       "      <td>[[[0.043137254901960784, 0.043137254901960784,...</td>\n",
       "    </tr>\n",
       "  </tbody>\n",
       "</table>\n",
       "</div>"
      ],
      "text/plain": [
       "   label                                           images_n\n",
       "0  angry  [[[0.22745098039215686, 0.22745098039215686, 0...\n",
       "1  angry  [[[0.09019607843137255, 0.09019607843137255, 0...\n",
       "2  angry  [[[0.788235294117647, 0.788235294117647, 0.788...\n",
       "3  angry  [[[0.36470588235294116, 0.36470588235294116, 0...\n",
       "4  angry  [[[0.043137254901960784, 0.043137254901960784,..."
      ]
     },
     "execution_count": 58,
     "metadata": {},
     "output_type": "execute_result"
    }
   ],
   "source": [
    "val_dataset.head()"
   ]
  },
  {
   "cell_type": "code",
   "execution_count": 65,
   "metadata": {},
   "outputs": [
    {
     "data": {
      "text/plain": [
       "<matplotlib.image.AxesImage at 0x1c3d63aac90>"
      ]
     },
     "execution_count": 65,
     "metadata": {},
     "output_type": "execute_result"
    },
    {
     "data": {
      "image/png": "[encoded data removed]",
      "text/plain": [
       "<Figure size 480x480 with 1 Axes>"
      ]
     },
     "metadata": {},
     "output_type": "display_data"
    }
   ],
   "source": [
    "img = cv2.imread('C:\\\\Users\\\\gotze\\\\OneDrive\\\\Desktop\\\\ESD Mf\\\\images\\\\validation\\\\angry\\\\38.jpg')\n",
    "plt.matshow(img)"
   ]
  },
  {
   "cell_type": "code",
   "execution_count": 62,
   "metadata": {},
   "outputs": [
    {
     "name": "stdout",
     "output_type": "stream",
     "text": [
      "\u001b[1m1/1\u001b[0m \u001b[32m━━━━━━━━━━━━━━━━━━━━\u001b[0m\u001b[37m\u001b[0m \u001b[1m1s\u001b[0m 1s/step\n"
     ]
    },
    {
     "data": {
      "text/plain": [
       "'angry'"
      ]
     },
     "execution_count": 62,
     "metadata": {},
     "output_type": "execute_result"
    }
   ],
   "source": [
    "predict_emotion(model, 'C:\\\\Users\\\\gotze\\\\OneDrive\\\\Desktop\\\\ESD Mf\\\\images\\\\validation\\\\angry\\\\38.jpg')"
   ]
  },
  {
   "cell_type": "code",
   "execution_count": 66,
   "metadata": {},
   "outputs": [
    {
     "data": {
      "text/plain": [
       "<matplotlib.image.AxesImage at 0x1c3d7fdc4d0>"
      ]
     },
     "execution_count": 66,
     "metadata": {},
     "output_type": "execute_result"
    },
    {
     "data": {
      "image/png": "[encoded data removed]",
      "text/plain": [
       "<Figure size 480x480 with 1 Axes>"
      ]
     },
     "metadata": {},
     "output_type": "display_data"
    }
   ],
   "source": [
    "img = cv2.imread('C:\\\\Users\\\\gotze\\\\OneDrive\\\\Desktop\\\\ESD Mf\\\\images\\\\validation\\\\happy\\\\167.jpg')\n",
    "plt.matshow(img)"
   ]
  },
  {
   "cell_type": "code",
   "execution_count": 63,
   "metadata": {},
   "outputs": [
    {
     "name": "stdout",
     "output_type": "stream",
     "text": [
      "\u001b[1m1/1\u001b[0m \u001b[32m━━━━━━━━━━━━━━━━━━━━\u001b[0m\u001b[37m\u001b[0m \u001b[1m0s\u001b[0m 36ms/step\n"
     ]
    },
    {
     "data": {
      "text/plain": [
       "'happy'"
      ]
     },
     "execution_count": 63,
     "metadata": {},
     "output_type": "execute_result"
    }
   ],
   "source": [
    "predict_emotion(model, 'C:\\\\Users\\\\gotze\\\\OneDrive\\\\Desktop\\\\ESD Mf\\\\images\\\\validation\\\\happy\\\\167.jpg')"
   ]
  }
 ],
 "metadata": {
  "kernelspec": {
   "display_name": "Python 3",
   "language": "python",
   "name": "python3"
  },
  "language_info": {
   "codemirror_mode": {
    "name": "ipython",
    "version": 3
   },
   "file_extension": ".py",
   "mimetype": "text/x-python",
   "name": "python",
   "nbconvert_exporter": "python",
   "pygments_lexer": "ipython3",
   "version": "3.11.2"
  }
 },
 "nbformat": 4,
 "nbformat_minor": 2
}
